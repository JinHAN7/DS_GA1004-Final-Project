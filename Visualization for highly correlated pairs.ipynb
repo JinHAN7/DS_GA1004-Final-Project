{
 "cells": [
  {
   "cell_type": "code",
   "execution_count": 238,
   "metadata": {
    "collapsed": true
   },
   "outputs": [],
   "source": [
    "import pandas as pd\n",
    "import numpy\n",
    "#import pickle\n",
    "import pandas as pd\n",
    "import numpy as np\n",
    "import matplotlib.pyplot as plt\n",
    "from datetime import datetime\n",
    "import warnings\n",
    "warnings.filterwarnings(\"ignore\")\n",
    "from plotly import tools\n",
    "import plotly.plotly as py\n",
    "import plotly.graph_objs as go\n",
    "import plotly.figure_factory as ff\n",
    "import seaborn as sns\n",
    "from plotly import __version__\n",
    "from plotly.offline import download_plotlyjs, init_notebook_mode, plot,iplot\n",
    "from sklearn import preprocessing\n",
    "from sklearn.preprocessing import MinMaxScaler\n",
    "from scipy import stats\n",
    "import statsmodels.api as sm\n",
    "from statsmodels.graphics.api import qqplot\n",
    "\n",
    "print (__version__) # requires version >= 1.9.0\n",
    "%matplotlib inline \n",
    "#Always run this the command before at the start of notebook\n",
    "init_notebook_mode(connected=True)"
   ]
  },
  {
   "cell_type": "markdown",
   "metadata": {},
   "source": [
    "## Weather Crime"
   ]
  },
  {
   "cell_type": "code",
   "execution_count": null,
   "metadata": {
    "collapsed": true
   },
   "outputs": [],
   "source": [
    "crime_agg = pd.read_csv('crime.csv')"
   ]
  },
  {
   "cell_type": "code",
   "execution_count": null,
   "metadata": {
    "collapsed": true
   },
   "outputs": [],
   "source": [
    "weather_agg =pd.read_csv('weather.out.csv')"
   ]
  },
  {
   "cell_type": "code",
   "execution_count": 6,
   "metadata": {
    "collapsed": true
   },
   "outputs": [],
   "source": [
    "weather_agg['key1'] = [weather_agg['key'][i][:10] for i in range(len(weather_agg))]"
   ]
  },
  {
   "cell_type": "code",
   "execution_count": 8,
   "metadata": {
    "collapsed": true
   },
   "outputs": [],
   "source": [
    "crime_agg['key1'] = [crime_agg['key'][i][:10]  for i in range(len(crime_agg))]"
   ]
  },
  {
   "cell_type": "code",
   "execution_count": 9,
   "metadata": {
    "collapsed": true
   },
   "outputs": [],
   "source": [
    "wea_crime1 = pd.merge(weather_grp, crime_agg, on ='key1', how = 'inner')"
   ]
  },
  {
   "cell_type": "code",
   "execution_count": 10,
   "metadata": {
    "collapsed": true
   },
   "outputs": [],
   "source": [
    "wea_crime1['datetime'] = pd.to_datetime(wea_crime1['key1'], format='%Y,%m,%d')"
   ]
  },
  {
   "cell_type": "code",
   "execution_count": 57,
   "metadata": {
    "collapsed": true
   },
   "outputs": [],
   "source": [
    "wea_crime1['year'] = wea_crime1['datetime'].apply(lambda x: x.year)"
   ]
  },
  {
   "cell_type": "code",
   "execution_count": 11,
   "metadata": {},
   "outputs": [
    {
     "data": {
      "text/plain": [
       "Index(['key1', 'mean_spd', 'mean_Visb', 'mean_Temp', 'mean_Prec', 'key',\n",
       "       'PREM_TYP_DESC', 'JURIS_DESC', 'OFNS_DESC', 'STATEN_ISLAND', 'QUEENS',\n",
       "       'BRONX', 'BROOKLYN', 'MANHATTAN', 'COMPLETED', 'ATTEMPTED',\n",
       "       'MISDEMEANOR', 'FELONY', 'VIOLATION', 'datetime'],\n",
       "      dtype='object')"
      ]
     },
     "execution_count": 11,
     "metadata": {},
     "output_type": "execute_result"
    }
   ],
   "source": [
    "wea_crime1.set_index(wea_crime1['datetime'])\n",
    "wea_crime1.columns"
   ]
  },
  {
   "cell_type": "code",
   "execution_count": null,
   "metadata": {
    "collapsed": true
   },
   "outputs": [],
   "source": []
  },
  {
   "cell_type": "markdown",
   "metadata": {},
   "source": [
    "### Crime count Time series"
   ]
  },
  {
   "cell_type": "code",
   "execution_count": 1,
   "metadata": {
    "collapsed": true
   },
   "outputs": [],
   "source": [
    "import plotly.plotly as py\n",
    "import plotly.graph_objs as go\n",
    "import plotly \n",
    "plotly.offline.init_notebook_mode()\n",
    "\n",
    "from plotly import tools\n",
    "\n",
    "\n",
    "trace1 = go.Scatter(x=wea_crime1['datetime'], y=wea_crime1['BRONX'],name = 'Bronx Crime Count',opacity = 0.8)\n",
    "trace2 = go.Scatter(x=wea_crime1['datetime'], y=wea_crime1['BROOKLYN'],name = 'Brooklyn Crime Count',opacity = 0.8)\n",
    "trace3 = go.Scatter(x=wea_crime1['datetime'], y=wea_crime1['MANHATTAN'],name = 'Manhatthan Crime Count',opacity = 0.8)\n",
    "trace4 = go.Scatter(x=wea_crime1['datetime'], y=wea_crime1['QUEENS'],name = 'Queens Crime Count',opacity = 0.8)\n",
    "trace5 = go.Scatter(x=wea_crime1['datetime'], y=wea_crime1['STATEN_ISLAND'],name = 'Staten Island Crime Count',opacity = 0.8)\n",
    "#trace6 = go.Scatter(x=wea_crime1['datetime'], y=wea_crime1['Count'],name = 'Staten Island Crime Count',yaxis='y2',mode = 'lines+markers',opacity = 0.8)\n",
    "data=[trace1,trace2,trace3,trace4,trace5]\n",
    "layout = go.Layout(title = 'Time Series plot of NYC Crime Count', yaxis=dict(title='Number of Crime Ocuured'))\n",
    "fig = go.Figure(data=data, layout=layout)\n",
    "plotly.offline.iplot(fig)"
   ]
  },
  {
   "cell_type": "markdown",
   "metadata": {},
   "source": [
    "### Crime count Yearly"
   ]
  },
  {
   "cell_type": "code",
   "execution_count": 2,
   "metadata": {
    "collapsed": true
   },
   "outputs": [],
   "source": [
    "import plotly.plotly as py\n",
    "import plotly.graph_objs as go\n",
    "import plotly \n",
    "plotly.offline.init_notebook_mode()\n",
    "\n",
    "from plotly import tools\n",
    "\n",
    "#trace0 = go.Scatter(x=wea_crime_year['year'], y=wea_crime_year['mean_Temp'],name = 'Temperature',yaxis='y',opacity = 0.8)\n",
    "trace1 = go.Scatter(x=wea_crime_year['year'], y=wea_crime_year['BRONX'],name = 'Bronx Crime Count',opacity = 0.8)\n",
    "trace2 = go.Scatter(x=wea_crime_year['year'], y=wea_crime_year['BROOKLYN'],name = 'Brooklyn Crime Count',opacity = 0.8)\n",
    "trace3 = go.Scatter(x=wea_crime_year['year'], y=wea_crime_year['MANHATTAN'],name = 'Manhatthan Crime Count',opacity = 0.8)\n",
    "trace4 = go.Scatter(x=wea_crime_year['year'], y=wea_crime_year['QUEENS'],name = 'Queens Crime Count',opacity = 0.8)\n",
    "trace5 = go.Scatter(x=wea_crime_year['year'], y=wea_crime_year['STATEN_ISLAND'],name = 'Staten Island Crime Count',opacity = 0.8)\n",
    "#trace6 = go.Scatter(x=wea_crime1['datetime'], y=wea_crime1['Count'],name = 'Staten Island Crime Count',yaxis='y2',mode = 'lines+markers',opacity = 0.8)\n",
    "data=[trace1,trace2,trace3,trace4,trace5]\n",
    "layout = go.Layout(title = 'Yearly NYC Crime Count', yaxis=dict(title='Number of Crime Ocuured'))\n",
    "fig = go.Figure(data=data, layout=layout)\n",
    "plotly.offline.iplot(fig)"
   ]
  },
  {
   "cell_type": "markdown",
   "metadata": {},
   "source": [
    "## Crime "
   ]
  },
  {
   "cell_type": "code",
   "execution_count": 3,
   "metadata": {
    "collapsed": true
   },
   "outputs": [],
   "source": [
    "trace1 = go.Scatter(x=wea_crime1['datetime'], y=wea_crime1['mean_Temp'],name = 'Temperature',yaxis='y',opacity = 0.8)\n",
    "# trace2 = go.Scatter(x=wea_crime1['datetime'], y=wea_crime1['BRONX'],name = 'BRONX Crime Count',yaxis='y2',opacity = 0.8)\n",
    "trace3 = go.Scatter(x=wea_crime1['datetime'], y=wea_crime1['BROOKLYN'],name = 'Brooklyn Crime Count',yaxis='y2',opacity = 0.8)\n",
    "trace4 = go.Scatter(x=wea_crime1['datetime'], y=wea_crime1['MANHATTAN'],name = 'Manhatthan Crime Count',yaxis='y2',opacity = 0.8)\n",
    "trace5 = go.Scatter(x=wea_crime1['datetime'], y=wea_crime1['QUEENS'],name = 'Queens Crime Count',yaxis='y2',opacity = 0.8)\n",
    "trace6 = go.Scatter(x=wea_crime1['datetime'], y=wea_crime1['STATEN_ISLAND'],name = 'Staten Island Crime Count',yaxis='y2',opacity = 0.8)\n",
    "\n",
    "data=[trace1,trace2,trace3,trace4,trace5,trace6]\n",
    "layout = go.Layout(title = 'NYC Crime Count and Temperature', yaxis=dict(title='Temperature'),yaxis2=dict(title='Crime Count', overlaying='y',\n",
    "        side='right'))\n",
    "fig = go.Figure(data=data, layout=layout)\n",
    "plotly.offline.iplot(fig)"
   ]
  },
  {
   "cell_type": "code",
   "execution_count": 4,
   "metadata": {
    "collapsed": true
   },
   "outputs": [],
   "source": [
    "import plotly.plotly as py\n",
    "import plotly.graph_objs as go\n",
    "import plotly \n",
    "plotly.offline.init_notebook_mode()\n",
    "\n",
    "from plotly import tools\n",
    "\n",
    "trace1 = go.Scatter(x=wea_crime_year['year'], y=wea_crime_year['mean_Temp'],name = 'Temperature',yaxis='y',opacity = 0.8)\n",
    "trace2 = go.Scatter(x=wea_crime_year['year'], y=wea_crime_year['BRONX'],name = 'Bronx Crime Count',yaxis='y2',opacity = 0.8)\n",
    "trace3 = go.Scatter(x=wea_crime_year['year'], y=wea_crime_year['BROOKLYN'],name = 'Brooklyn Crime Count',yaxis='y2',opacity = 0.8)\n",
    "trace4 = go.Scatter(x=wea_crime_year['year'], y=wea_crime_year['MANHATTAN'],name = 'Manhatthan Crime Count',yaxis='y2',opacity = 0.8)\n",
    "trace5 = go.Scatter(x=wea_crime_year['year'], y=wea_crime_year['QUEENS'],name = 'Queens Crime Count',yaxis='y2',opacity = 0.8)\n",
    "trace6 = go.Scatter(x=wea_crime_year['year'], y=wea_crime_year['STATEN_ISLAND'],name = 'Staten Island Crime Count',yaxis='y2',opacity = 0.8)\n",
    "\n",
    "data=[trace1,trace2,trace3,trace4,trace5,trace6]\n",
    "layout = go.Layout(title = 'Time Series plot of NYC Crime Count', yaxis=dict(title='Number of Crime Ocuured'),yaxis2=dict(title='Crime Count', overlaying='y',\n",
    "        side='right'))\n",
    "fig = go.Figure(data=data, layout=layout)\n",
    "plotly.offline.iplot(fig)"
   ]
  },
  {
   "cell_type": "code",
   "execution_count": 97,
   "metadata": {
    "collapsed": true
   },
   "outputs": [],
   "source": [
    "#### Visibility and Crime\n",
    "def norm(x):\n",
    "    x_normed = (x - x.min(0)) / x.ptp(0)\n",
    "    return x_normed"
   ]
  },
  {
   "cell_type": "markdown",
   "metadata": {},
   "source": [
    "### Correlation Weather and Crime "
   ]
  },
  {
   "cell_type": "code",
   "execution_count": 5,
   "metadata": {
    "collapsed": true
   },
   "outputs": [],
   "source": [
    "trace1 = go.Scatter(x=wea_crime1['datetime'], y=norm(wea_crime1['mean_Visb']),name = 'mean_Visb',yaxis='y',opacity = 0.8)\n",
    "trace2 = go.Scatter(x=wea_crime1['datetime'], y=wea_crime1['BRONX'],name = 'BRONX Crime Count',yaxis='y2',opacity = 0.8)\n",
    "trace3 = go.Scatter(x=wea_crime1['datetime'], y=wea_crime1['BROOKLYN'],name = 'Brooklyn Crime Count',yaxis='y2',opacity = 0.8)\n",
    "trace4 = go.Scatter(x=wea_crime1['datetime'], y=wea_crime1['MANHATTAN'],name = 'Manhatthan Crime Count',yaxis='y2',opacity = 0.8)\n",
    "trace5 = go.Scatter(x=wea_crime1['datetime'], y=wea_crime1['QUEENS'],name = 'Queens Crime Count',yaxis='y2',opacity = 0.8)\n",
    "trace6 = go.Scatter(x=wea_crime1['datetime'], y=wea_crime1['STATEN_ISLAND'],name = 'Staten Island Crime Count',yaxis='y2',opacity = 0.8)\n",
    "\n",
    "data=[trace1,trace2,trace3,trace4,trace5,trace6]\n",
    "layout = go.Layout(title = 'Monthly NYC Crime Count and Visibility(normalized)', yaxis=dict(title='Visibility'),yaxis2=dict(title='Crime Count', overlaying='y',\n",
    "        side='right'))\n",
    "fig = go.Figure(data=data, layout=layout)\n",
    "plotly.offline.iplot(fig)"
   ]
  },
  {
   "cell_type": "code",
   "execution_count": 6,
   "metadata": {
    "collapsed": true
   },
   "outputs": [],
   "source": [
    "### bar plot\n",
    "plotly.offline.iplot({\n",
    "    \"data\": [Bar(x = temp_sum['Temp_cat'],y = temp_sum['STATEN_ISLAND'],\n",
    "                   name = 'STATEN_ISLAND'),\n",
    "             Bar(x = temp_sum['Temp_cat'],y = temp_sum['BROOKLYN'],\n",
    "                    name = 'BROOKLYN'),\n",
    "            Bar(x = temp_sum['Temp_cat'],y = temp_sum['MANHATTAN'],\n",
    "                   name = 'MANHATTAN'),\n",
    "            Bar(x = temp_sum['Temp_cat'],y = temp_sum['QUEENS'],\n",
    "                    name = 'QUEENS')\n",
    "            Scatter()\n",
    "            \n",
    "            ],\n",
    "    \"layout\": Layout( xaxis=dict(tickangle=-45, title='Temperature'),yaxis=dict(title='number'),\n",
    "    barmode='group', title=\"Relationship between temperture and crime\")\n",
    "})"
   ]
  },
  {
   "cell_type": "markdown",
   "metadata": {},
   "source": [
    "# Weather——bike"
   ]
  },
  {
   "cell_type": "code",
   "execution_count": 11,
   "metadata": {
    "collapsed": true
   },
   "outputs": [],
   "source": [
    "weather =pd.read_csv('weather.out.csv')\n",
    "bike = pd.read_csv('bike.csv')\n",
    "bike['key1'] = [bike['key'][i][:10] for i in range(len(bike))]\n",
    "weather['key1'] = [weather['key'][i][:10] for i in range(len(weather))]\n",
    "weather_bike = pd.merge(bike, weather, on ='key1', how = 'inner')\n",
    "weather_bike['datetime'] = pd.to_datetime(weather_bike['key1'], format='%Y,%m,%d')"
   ]
  },
  {
   "cell_type": "code",
   "execution_count": 7,
   "metadata": {
    "collapsed": true
   },
   "outputs": [],
   "source": [
    "trace1 = go.Scatter(x=weather_bike['datetime'], y=weather_bike['Customer'],yaxis='y',name = 'Number of Customers',opacity = 0.8)\n",
    "trace2 = go.Scatter(x=weather_bike['datetime'], y=weather_bike['gender_unknown'],name = 'Number of Customers(gender_unknown)',opacity = 0.8)\n",
    "trace3 = go.Scatter(x=weather_bike['datetime'], y=weather_bike['mean_Temp'],yaxis='y2',name = 'mean_Temp',opacity = 0.8)\n",
    "\n",
    "data=[trace1,trace2, trace3]\n",
    "layout = go.Layout(title = 'Correlation between Citi Bike customer ', yaxis=dict(title='customer'),yaxis2=dict(title='mean temperature', overlaying='y',\n",
    "        side='right'))\n",
    "fig = go.Figure(data=data, layout=layout)\n",
    "plotly.offline.iplot(fig)\n"
   ]
  },
  {
   "cell_type": "markdown",
   "metadata": {},
   "source": [
    "# Bike and collision "
   ]
  },
  {
   "cell_type": "code",
   "execution_count": 213,
   "metadata": {
    "collapsed": true
   },
   "outputs": [],
   "source": [
    "collision = pd.read_csv('collision.out.csv')"
   ]
  },
  {
   "cell_type": "code",
   "execution_count": 218,
   "metadata": {
    "collapsed": true
   },
   "outputs": [],
   "source": [
    "collision['key1'] = [collision['key'][i][:10] for i in range(len(collision))]"
   ]
  },
  {
   "cell_type": "code",
   "execution_count": 216,
   "metadata": {
    "collapsed": true
   },
   "outputs": [],
   "source": [
    "collision['zip']= [collision['key'][i].split(',')[5] for i in range(len(collision))]"
   ]
  },
  {
   "cell_type": "code",
   "execution_count": 219,
   "metadata": {
    "collapsed": true
   },
   "outputs": [],
   "source": [
    "collision_grp = collision.groupby(['key1'],as_index = False).agg({'TOTAL_PER_I':'sum',\n",
    "                                             'TOTAL_PER_K':'sum',\n",
    "                                             'TOTAL_PED_I':'sum',\n",
    "                                             'TOTAL_PED_K':'sum',\n",
    "                                              'TOTAL_CYC_I':'sum',\n",
    "                                             'TOTAL_CYC_K':'sum',\n",
    "                                                       'TOTAL_MOT_I':'sum',\n",
    "                                                       'TOTAL_MOT_K':'sum'})"
   ]
  },
  {
   "cell_type": "code",
   "execution_count": 220,
   "metadata": {
    "collapsed": true
   },
   "outputs": [],
   "source": [
    "collision_bike = pd.merge(bike, collision, on ='key1', how = 'inner')\n",
    "#collision_bike['datetime'] = pd.to_datetime(collision_bike['key1'], format='%Y,%m,%d')"
   ]
  },
  {
   "cell_type": "code",
   "execution_count": 222,
   "metadata": {
    "collapsed": true
   },
   "outputs": [],
   "source": [
    "collision_bike.columns\n",
    "collision_bike['datetime'] = pd.to_datetime(collision_bike['key1'], format='%Y,%m,%d')"
   ]
  },
  {
   "cell_type": "code",
   "execution_count": 226,
   "metadata": {},
   "outputs": [
    {
     "data": {
      "text/plain": [
       "Index(['key_x', 'endStation', 'birthYear', 'startStation', 'mean_tripDuration',\n",
       "       'Customer', 'Subscriber', 'gender_unknown', 'gender_male',\n",
       "       'gender_female', 'key1', 'key_y', 'TOTAL_PER_I', 'TOTAL_PER_K',\n",
       "       'TOTAL_PED_I', 'TOTAL_PED_K', 'TOTAL_CYC_I', 'TOTAL_CYC_K',\n",
       "       'TOTAL_MOT_I', 'TOTAL_MOT_K', 'zip', 'datetime'],\n",
       "      dtype='object')"
      ]
     },
     "execution_count": 226,
     "metadata": {},
     "output_type": "execute_result"
    }
   ],
   "source": [
    "collision_bike.columns"
   ]
  },
  {
   "cell_type": "code",
   "execution_count": 228,
   "metadata": {},
   "outputs": [
    {
     "name": "stderr",
     "output_type": "stream",
     "text": [
      "IOPub data rate exceeded.\n",
      "The notebook server will temporarily stop sending output\n",
      "to the client in order to avoid crashing it.\n",
      "To change this limit, set the config variable\n",
      "`--NotebookApp.iopub_data_rate_limit`.\n"
     ]
    }
   ],
   "source": [
    "trace1 = go.Scatter(x=collision_bike['datetime'], y=collision_bike['TOTAL_CYC_I'], yaxis='y',name = 'Total cyclist injuried',opacity = 0.8)\n",
    "\n",
    "data=[trace1]\n",
    "layout = go.Layout(title = 'Correlation between Citi Bike customer ', yaxis=dict(title='customer'),yaxis2=dict(title='mean temperature', overlaying='y',\n",
    "        side='right'))\n",
    "fig = go.Figure(data=data, layout=layout)\n",
    "plotly.offline.iplot(fig)\n"
   ]
  },
  {
   "cell_type": "markdown",
   "metadata": {},
   "source": [
    "## Weather and Collision"
   ]
  },
  {
   "cell_type": "code",
   "execution_count": null,
   "metadata": {
    "collapsed": true
   },
   "outputs": [],
   "source": [
    "rating = go.Scatter(\n",
    "    x=wea_col.datetime,\n",
    "    y=wea_col['mean_Temp'],\n",
    "    name = \"Mean Temperature \",\n",
    "    mode = 'line',\n",
    "    opacity = 0.5)\n",
    "\n",
    "ratingbox = go.Scatter(\n",
    "    x=wea_col.datetime,\n",
    "    y=wea_col['TOTAL_CYC_I'],\n",
    "    name = \"Number of Cyclists Injured\",\n",
    "    mode = 'line',\n",
    "    opacity = 0.5)\n",
    "\n",
    "data=go.Data([ratingbox,rating])\n",
    "layout=go.Layout(title=\"Temperature vs. the Number of Cyclists Injured\", xaxis={'title':'Date'}, yaxis={'title':'value'})\n",
    "figure=go.Figure(data=data,layout=layout)\n",
    "iplot(figure, filename='Temperature VS the Number of Cyclists Injured')"
   ]
  },
  {
   "cell_type": "markdown",
   "metadata": {},
   "source": [
    "## Correlation of three dataset: Weather Crime and Collision "
   ]
  },
  {
   "cell_type": "code",
   "execution_count": null,
   "metadata": {
    "collapsed": true
   },
   "outputs": [],
   "source": [
    "rating = go.Scatter(\n",
    "    x=weather_bike.datetime,\n",
    "    y=weather_bike['mean_Temp'],\n",
    "    name = \"Mean Temperature\",\n",
    "    mode = 'markers',\n",
    "    opacity = 0.5)\n",
    "\n",
    "ratingbox = go.Scatter(\n",
    "    x=weather_bike.datetime,\n",
    "    y=weather_bike['NewCustomer'],\n",
    "    name = \"Num of Customer in Hundred\",\n",
    "    mode = 'markers',\n",
    "    opacity = 0.5)\n",
    "    \n",
    "ratingbox1 = go.Scatter(\n",
    "    x=crime_collision.datetime,\n",
    "    y=crime_collision['TOTAL_CYC_I'],\n",
    "    name = \"Total Number of Cyclic Injured\",\n",
    "    mode = 'markers',\n",
    "    opacity = 0.5)\n",
    "\n",
    "data=go.Data([ratingbox,rating,ratingbox1])\n",
    "layout=go.Layout(title=\"Citi Bike Customer vs. Cyclic Injured vs. Mean Temperature\", xaxis={'title':'Date'}, yaxis={'title':''})\n",
    "figure=go.Figure(data=data,layout=layout)\n",
    "iplot(figure, filename='fig1 ratings over time')"
   ]
  },
  {
   "cell_type": "markdown",
   "metadata": {},
   "source": [
    "# Income and property"
   ]
  },
  {
   "cell_type": "code",
   "execution_count": 14,
   "metadata": {
    "collapsed": true
   },
   "outputs": [],
   "source": [
    "income = pd.read_csv('/Users/scarlett/Desktop/1004_project/out/correlation/census_nyc.csv')"
   ]
  },
  {
   "cell_type": "code",
   "execution_count": 22,
   "metadata": {
    "collapsed": true
   },
   "outputs": [],
   "source": [
    "property_dta = pd.read_csv('property.out.csv')"
   ]
  },
  {
   "cell_type": "code",
   "execution_count": 23,
   "metadata": {
    "collapsed": true
   },
   "outputs": [],
   "source": [
    "income['Id2'] = income['Id2'].astype('str')"
   ]
  },
  {
   "cell_type": "code",
   "execution_count": 24,
   "metadata": {
    "collapsed": true
   },
   "outputs": [],
   "source": [
    "property_dta['Id2'] = property_dta['key'].apply(lambda x: x[-7:-2])"
   ]
  },
  {
   "cell_type": "code",
   "execution_count": 25,
   "metadata": {
    "collapsed": true
   },
   "outputs": [],
   "source": [
    "property_dta['Id2'] = property_dta['Id2'].astype('str')"
   ]
  },
  {
   "cell_type": "code",
   "execution_count": 26,
   "metadata": {
    "collapsed": true
   },
   "outputs": [],
   "source": [
    "property_income = pd.merge(property_dta, income, on ='Id2', how = 'inner')"
   ]
  },
  {
   "cell_type": "code",
   "execution_count": 27,
   "metadata": {
    "collapsed": true
   },
   "outputs": [],
   "source": [
    "property_income.corr().to_csv('property_income_corr.csv')"
   ]
  },
  {
   "cell_type": "code",
   "execution_count": null,
   "metadata": {
    "collapsed": true
   },
   "outputs": [],
   "source": [
    "rating = go.Scatter(\n",
    "    x=property_income_G.index,\n",
    "    y=property_income_G['Newincome'],\n",
    "    name = \"Mean Household Earning\",\n",
    "   mode='line',\n",
    "    opacity = 0.5)\n",
    "\n",
    "ratingbox = go.Scatter(\n",
    "    x=property_income_G.index,\n",
    "    y=property_income_G['mean_lotsize'],\n",
    "    name = \"Mean Lot Size\",\n",
    "mode='line',\n",
    "    opacity = 0.5)\n",
    "\n",
    "data=go.Data([ratingbox,rating])\n",
    "layout=go.Layout(title=\"Mean Lot Size vs. Mean Household Earning\", xaxis={'title':'Unique Zipcode'}, yaxis={'title':''})\n",
    "figure=go.Figure(data=data,layout=layout)\n",
    "iplot(figure, filename='fig1 ratings over time')"
   ]
  },
  {
   "cell_type": "code",
   "execution_count": null,
   "metadata": {
    "collapsed": true
   },
   "outputs": [],
   "source": []
  }
 ],
 "metadata": {
  "kernelspec": {
   "display_name": "Python 3",
   "language": "python",
   "name": "python3"
  },
  "language_info": {
   "codemirror_mode": {
    "name": "ipython",
    "version": 3
   },
   "file_extension": ".py",
   "mimetype": "text/x-python",
   "name": "python",
   "nbconvert_exporter": "python",
   "pygments_lexer": "ipython3",
   "version": "3.6.1"
  }
 },
 "nbformat": 4,
 "nbformat_minor": 2
}
